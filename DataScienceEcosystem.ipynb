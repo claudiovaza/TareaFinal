{
 "cells": [
  {
   "cell_type": "markdown",
   "id": "5e48e448",
   "metadata": {},
   "source": [
    "# Data Science Tools and Ecosystems"
   ]
  },
  {
   "cell_type": "markdown",
   "id": "66b63919",
   "metadata": {},
   "source": [
    "In this notebook, Data science Tools and Ecosystems are summarized."
   ]
  },
  {
   "cell_type": "markdown",
   "id": "b9609bc7",
   "metadata": {},
   "source": [
    "Objectives: \n",
    "List popular languages for Data Science\n",
    "\n",
    "* Python \n",
    "* R \n",
    "* Julia\n",
    "* SQL\n",
    "* Scala "
   ]
  },
  {
   "cell_type": "markdown",
   "id": "dfb70332",
   "metadata": {},
   "source": [
    "Some of the popular languages that Data science use are:\n",
    "\n",
    "1. Python \n",
    "2. Java \n",
    "3. R "
   ]
  },
  {
   "cell_type": "markdown",
   "id": "f820acb2",
   "metadata": {},
   "source": [
    "Some of the commonly used libraries used by Data Science include:\n",
    "\n",
    "1. Panda\n",
    "2. NumPy\n",
    "3. Matplotlib"
   ]
  },
  {
   "cell_type": "markdown",
   "id": "5a9ccc81",
   "metadata": {},
   "source": [
    "| Data Science Tools |\n",
    "|--------------------|\n",
    "| Python |\n",
    "| Tableau |\n",
    "| Tenserflow |"
   ]
  },
  {
   "cell_type": "markdown",
   "id": "bf3a1fe5",
   "metadata": {},
   "source": [
    "### Below are a few examples of evaluating arithmetic expressions in Python"
   ]
  },
  {
   "cell_type": "code",
   "execution_count": 5,
   "id": "2ce5d9bd",
   "metadata": {},
   "outputs": [
    {
     "data": {
      "text/plain": [
       "17"
      ]
     },
     "execution_count": 5,
     "metadata": {},
     "output_type": "execute_result"
    }
   ],
   "source": [
    "# This a simple arithmetic expression to mutiply then add integers\n",
    "(3*4)+5"
   ]
  },
  {
   "cell_type": "code",
   "execution_count": 6,
   "id": "96cd134b",
   "metadata": {},
   "outputs": [
    {
     "data": {
      "text/plain": [
       "3.3333333333333335"
      ]
     },
     "execution_count": 6,
     "metadata": {},
     "output_type": "execute_result"
    }
   ],
   "source": [
    "# This will convert 200 minutes to hours by diving by 60\n",
    "200/60"
   ]
  },
  {
   "cell_type": "markdown",
   "id": "e9748776",
   "metadata": {},
   "source": [
    "## Autor\n",
    "Claudio Vaza"
   ]
  }
 ],
 "metadata": {
  "kernelspec": {
   "display_name": "Python 3 (ipykernel)",
   "language": "python",
   "name": "python3"
  },
  "language_info": {
   "codemirror_mode": {
    "name": "ipython",
    "version": 3
   },
   "file_extension": ".py",
   "mimetype": "text/x-python",
   "name": "python",
   "nbconvert_exporter": "python",
   "pygments_lexer": "ipython3",
   "version": "3.11.5"
  }
 },
 "nbformat": 4,
 "nbformat_minor": 5
}
